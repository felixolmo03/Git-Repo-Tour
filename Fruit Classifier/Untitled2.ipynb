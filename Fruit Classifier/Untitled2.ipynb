{
 "cells": [
  {
   "cell_type": "code",
   "execution_count": 1,
   "id": "14d4283d-fcab-4ffa-9ecd-ad21b1207c3e",
   "metadata": {},
   "outputs": [],
   "source": [
    "import pandas as pd\n",
    "from sklearn.model_selection import train_test_split\n",
    "from sklearn.linear_model import LogisticRegression\n",
    "from sklearn.metrics import accuracy_score, classification_report"
   ]
  },
  {
   "cell_type": "code",
   "execution_count": 2,
   "id": "e6e98c9a-3bf4-458c-a87f-163ee80c8c66",
   "metadata": {
    "scrolled": true
   },
   "outputs": [],
   "source": [
    "df = pd.read_csv('Sheet1.csv', header=[0, 1])\n",
    "\n",
    "df.columns = [' '.join(col).strip() for col in df.columns.values]\n",
    "df.rename(columns={'Label Unnamed: 0_level_1': 'Label'}, inplace=True)\n",
    "df = df.fillna(0)\n",
    "X = df.drop('Label', axis=1)\n",
    "y = df['Label']"
   ]
  },
  {
   "cell_type": "code",
   "execution_count": 3,
   "id": "610d8706-8f82-4bc7-ae68-75ed357f90dc",
   "metadata": {},
   "outputs": [
    {
     "name": "stdout",
     "output_type": "stream",
     "text": [
      "Model Accuracy: 100.00%\n",
      "\n",
      "Detailed Report:\n",
      "               precision    recall  f1-score   support\n",
      "\n",
      "       Apple       1.00      1.00      1.00         1\n",
      "      Banana       1.00      1.00      1.00         1\n",
      "      Orange       1.00      1.00      1.00         1\n",
      "\n",
      "    accuracy                           1.00         3\n",
      "   macro avg       1.00      1.00      1.00         3\n",
      "weighted avg       1.00      1.00      1.00         3\n",
      "\n"
     ]
    }
   ],
   "source": [
    "X_train, X_test, y_train, y_test = train_test_split(X, y, test_size=0.2, random_state=42, stratify=y)\n",
    "\n",
    "model = LogisticRegression(max_iter=1000)\n",
    "model.fit(X_train, y_train)\n",
    "\n",
    "# 7. Make predictions and evaluate\n",
    "y_pred = model.predict(X_test)\n",
    "accuracy = accuracy_score(y_test, y_pred)\n",
    "\n",
    "print(f\"Model Accuracy: {accuracy:.2%}\")\n",
    "print(\"\\nDetailed Report:\\n\", classification_report(y_test, y_pred))"
   ]
  },
  {
   "cell_type": "code",
   "execution_count": 4,
   "id": "d03bc3c9-bbc5-4f59-8fd6-ef19552a5d2f",
   "metadata": {},
   "outputs": [
    {
     "name": "stdout",
     "output_type": "stream",
     "text": [
      "\n",
      "--- Bonus: Model Confidence for a Prediction ---\n",
      "True fruit: Apple\n",
      "Predicted fruit: Apple\n",
      "Probability it's Apple: 91.24%\n",
      "Probability it's Banana: 3.69%\n",
      "Probability it's Orange: 5.07%\n"
     ]
    }
   ],
   "source": [
    "# (Optional) Bonus: Show the model's confidence for a specific prediction\n",
    "# Let's pick the first fruit from the test set\n",
    "print(\"\\n--- Bonus: Model Confidence for a Prediction ---\")\n",
    "print(f\"True fruit: {y_test.iloc[0]}\")\n",
    "print(f\"Predicted fruit: {y_pred[0]}\")\n",
    "\n",
    "# Get prediction probabilities (how sure the model is)\n",
    "probabilities = model.predict_proba(X_test.iloc[0:1])\n",
    "for fruit, prob in zip(model.classes_, probabilities[0]):\n",
    "    print(f\"Probability it's {fruit}: {prob:.2%}\")"
   ]
  },
  {
   "cell_type": "code",
   "execution_count": null,
   "id": "1e655e2f-1025-40f3-a7e0-3f227dbe65f4",
   "metadata": {},
   "outputs": [],
   "source": []
  },
  {
   "cell_type": "code",
   "execution_count": null,
   "id": "39637011-5b54-4721-84e3-670edeef1f7f",
   "metadata": {},
   "outputs": [],
   "source": []
  }
 ],
 "metadata": {
  "kernelspec": {
   "display_name": "Python 3 (ipykernel)",
   "language": "python",
   "name": "python3"
  },
  "language_info": {
   "codemirror_mode": {
    "name": "ipython",
    "version": 3
   },
   "file_extension": ".py",
   "mimetype": "text/x-python",
   "name": "python",
   "nbconvert_exporter": "python",
   "pygments_lexer": "ipython3",
   "version": "3.10.10"
  }
 },
 "nbformat": 4,
 "nbformat_minor": 5
}
